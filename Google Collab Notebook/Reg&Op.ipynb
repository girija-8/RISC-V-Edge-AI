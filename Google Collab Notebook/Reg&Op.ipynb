{
  "nbformat": 4,
  "nbformat_minor": 0,
  "metadata": {
    "colab": {
      "provenance": []
    },
    "kernelspec": {
      "name": "python3",
      "display_name": "Python 3"
    },
    "language_info": {
      "name": "python"
    }
  },
  "cells": [
    {
      "cell_type": "code",
      "execution_count": 3,
      "metadata": {
        "id": "TB2yPc7iNeqn"
      },
      "outputs": [],
      "source": [
        "import pandas as pd\n",
        "import numpy as np\n",
        "import matplotlib.pyplot as plt\n"
      ]
    },
    {
      "cell_type": "code",
      "source": [
        "from google.colab import drive\n",
        "drive.mount('/content/drive')"
      ],
      "metadata": {
        "colab": {
          "base_uri": "https://localhost:8080/"
        },
        "id": "XfSSnew5cGEI",
        "outputId": "dd4f2001-edfc-4264-f79b-f1d0c448653f"
      },
      "execution_count": 4,
      "outputs": [
        {
          "output_type": "stream",
          "name": "stdout",
          "text": [
            "Mounted at /content/drive\n"
          ]
        }
      ]
    },
    {
      "cell_type": "code",
      "source": [
        "dataset = pd.read_csv('/content/studentscores-1fef94ba-27e1-4fab-a7ad-56867b8fb5a1.csv')\n",
        "print(dataset)\n",
        "plt.scatter(dataset['Hours'], dataset['Scores'])\n",
        "plt.show()"
      ],
      "metadata": {
        "id": "-XVt2W_7OEes",
        "colab": {
          "base_uri": "https://localhost:8080/",
          "height": 881
        },
        "outputId": "d1718f98-68d5-4eaa-f0d3-ef69d6efa73f"
      },
      "execution_count": 5,
      "outputs": [
        {
          "output_type": "stream",
          "name": "stdout",
          "text": [
            "    Hours  Scores\n",
            "0     2.5      21\n",
            "1     5.1      47\n",
            "2     3.2      27\n",
            "3     8.5      75\n",
            "4     3.5      30\n",
            "5     1.5      20\n",
            "6     9.2      88\n",
            "7     5.5      60\n",
            "8     8.3      81\n",
            "9     2.7      25\n",
            "10    7.7      85\n",
            "11    5.9      62\n",
            "12    4.5      41\n",
            "13    3.3      42\n",
            "14    1.1      17\n",
            "15    8.9      95\n",
            "16    2.5      30\n",
            "17    1.9      24\n",
            "18    6.1      67\n",
            "19    7.4      69\n",
            "20    2.7      30\n",
            "21    4.8      54\n",
            "22    3.8      35\n",
            "23    6.9      76\n",
            "24    7.8      86\n"
          ]
        },
        {
          "output_type": "display_data",
          "data": {
            "text/plain": [
              "<Figure size 640x480 with 1 Axes>"
            ],
            "image/png": "[encoded data removed]"
          },
          "metadata": {}
        }
      ]
    },
    {
      "cell_type": "code",
      "source": [
        "X = dataset.iloc[:,:-1].values\n",
        "Y = dataset.iloc[:,1].values\n",
        "print(Y)"
      ],
      "metadata": {
        "colab": {
          "base_uri": "https://localhost:8080/"
        },
        "id": "GEb9Nfo2QNqJ",
        "outputId": "f7ff9642-39e9-4c02-fb8d-60af374ac08d"
      },
      "execution_count": 6,
      "outputs": [
        {
          "output_type": "stream",
          "name": "stdout",
          "text": [
            "[21 47 27 75 30 20 88 60 81 25 85 62 41 42 17 95 30 24 67 69 30 54 35 76\n",
            " 86]\n"
          ]
        }
      ]
    },
    {
      "cell_type": "code",
      "source": [
        "#Y = MX+c"
      ],
      "metadata": {
        "id": "Ut_sf8wHOVx5"
      },
      "execution_count": 7,
      "outputs": []
    },
    {
      "cell_type": "code",
      "source": [
        "from typing_extensions import Self\n",
        "class Model():\n",
        "\n",
        "  def __init__(self,Learning_rate ,iteration):\n",
        "    self.Learning_rate = Learning_rate\n",
        "    self.iteration = iteration\n",
        "  def predict(self,X):\n",
        "    return X.dot(self.slope)+self.const\n",
        "  def fit(self, X, Y):\n",
        "    self.m,self.n = X.shape\n",
        "    self.slope = np.zeros(self.n)\n",
        "    self.const = 0\n",
        "    self.X = X\n",
        "    self.Y = Y\n",
        "\n",
        "    for i in range(self.iteration):\n",
        "      self.update_weights()\n",
        "    return self\n",
        "  def update_weights(self):\n",
        "    Y_pred = self.predict(self.X)\n",
        "    dW =-(2*(self.X.T).dot(self.Y-Y_pred))/self.m\n",
        "    db=-2*np.sum(self.Y-Y_pred)/self.m\n",
        "    self.slope=self.slope-self.Learning_rate*dW\n",
        "    self.const=self.const-self.Learning_rate*db\n",
        "\n"
      ],
      "metadata": {
        "id": "jStiZvumQrNP"
      },
      "execution_count": 8,
      "outputs": []
    },
    {
      "cell_type": "code",
      "source": [
        "model =Model(Learning_rate=0.01,iteration=1000)\n",
        "model.fit(X,Y)"
      ],
      "metadata": {
        "colab": {
          "base_uri": "https://localhost:8080/"
        },
        "id": "AnoJYH_wSqD7",
        "outputId": "a01eaffc-64d4-4c9d-cd52-a57aad5aefc8"
      },
      "execution_count": 9,
      "outputs": [
        {
          "output_type": "execute_result",
          "data": {
            "text/plain": [
              "<__main__.Model at 0x7b8d1d796870>"
            ]
          },
          "metadata": {},
          "execution_count": 9
        }
      ]
    },
    {
      "cell_type": "code",
      "source": [
        "Y_pred=model.predict(X)\n",
        "print(Y_pred)\n",
        "plt.scatter(dataset['Hours'],dataset['Scores'])\n",
        "plt.plot(X,Y_pred,color='red')\n",
        "plt.show()"
      ],
      "metadata": {
        "colab": {
          "base_uri": "https://localhost:8080/",
          "height": 517
        },
        "id": "r4tfRuY4Sw8V",
        "outputId": "17950f68-6ea9-434d-8e8d-967a864117ef"
      },
      "execution_count": 10,
      "outputs": [
        {
          "output_type": "stream",
          "name": "stdout",
          "text": [
            "[26.91171724 52.33687281 33.75695143 85.58515317 36.69062323 17.13281125\n",
            " 92.43038736 56.24843521 83.62937197 28.86749844 77.76202838 60.1599976\n",
            " 46.46952922 34.73484203 13.22124886 89.49671557 26.91171724 21.04437365\n",
            " 62.1157788  74.82835658 28.86749844 49.40320102 39.62429503 69.93890359\n",
            " 78.73991898]\n"
          ]
        },
        {
          "output_type": "display_data",
          "data": {
            "text/plain": [
              "<Figure size 640x480 with 1 Axes>"
            ],
            "image/png": "[encoded data removed]"
          },
          "metadata": {}
        }
      ]
    },
    {
      "cell_type": "code",
      "source": [
        "print(model.slope,model.const)"
      ],
      "metadata": {
        "colab": {
          "base_uri": "https://localhost:8080/"
        },
        "id": "eFWWcEgVeUp3",
        "outputId": "5f433845-fd5f-4cdd-fff0-92163e764e20"
      },
      "execution_count": 11,
      "outputs": [
        {
          "output_type": "stream",
          "name": "stdout",
          "text": [
            "[9.77890599] 2.4644522714760995\n"
          ]
        }
      ]
    },
    {
      "cell_type": "code",
      "source": [
        "\n",
        "#4\n",
        "import pandas as pd\n",
        "import numpy as np\n",
        "import matplotlib.pyplot as plt\n",
        "import matplotlib.axes as ax\n",
        "from matplotlib.animation import FuncAnimation"
      ],
      "metadata": {
        "id": "sMHji8LLfQ8P"
      },
      "execution_count": 12,
      "outputs": []
    },
    {
      "cell_type": "code",
      "source": [
        "url = 'https://media.geeksforgeeks.org/wp-content/uploads/20240320114716/data_for_lr.csv'\n",
        "data = pd.read_csv(url)\n",
        "\n",
        "data = data.dropna()\n",
        "\n",
        "train_input = np.array(data.x[0:500]).reshape(500, 1)\n",
        "train_output = np.array(data.y[0:500]).reshape(500, 1)\n",
        "\n",
        "test_input = np.array(data.x[500:700]).reshape(199, 1)\n",
        "test_output = np.array(data.y[500:700]).reshape(199, 1)"
      ],
      "metadata": {
        "id": "30XG-lLifR5h"
      },
      "execution_count": 13,
      "outputs": []
    },
    {
      "cell_type": "code",
      "source": [
        "class LinearRegression:\n",
        "    def __init__(self):\n",
        "        self.parameters = {}\n",
        "\n",
        "    def forward_propagation(self, train_input):\n",
        "        m = self.parameters['m']\n",
        "        c = self.parameters['c']\n",
        "        predictions = np.multiply(m, train_input) + c\n",
        "        return predictions\n",
        "\n",
        "    def cost_function(self, predictions, train_output):\n",
        "        cost = np.mean((train_output - predictions) ** 2)\n",
        "        return cost\n",
        "\n",
        "    def backward_propagation(self, train_input, train_output, predictions):\n",
        "        derivatives = {}\n",
        "        df = (predictions-train_output)\n",
        "        dm = 2 * np.mean(np.multiply(train_input, df))\n",
        "        dc = 2 * np.mean(df)\n",
        "        derivatives['dm'] = dm\n",
        "        derivatives['dc'] = dc\n",
        "        return derivatives\n",
        "\n",
        "    def update_parameters(self, derivatives, learning_rate):\n",
        "        self.parameters['m'] = self.parameters['m'] - learning_rate * derivatives['dm']\n",
        "        self.parameters['c'] = self.parameters['c'] - learning_rate * derivatives['dc']\n",
        "\n",
        "    def train(self, train_input, train_output, learning_rate, iters):\n",
        "        self.parameters['m'] = np.random.uniform(0, 1) * -1\n",
        "        self.parameters['c'] = np.random.uniform(0, 1) * -1\n",
        "\n",
        "        self.loss = []\n",
        "\n",
        "        fig, ax = plt.subplots()\n",
        "        x_vals = np.linspace(min(train_input), max(train_input), 100)\n",
        "        line, = ax.plot(x_vals, self.parameters['m'] * x_vals + self.parameters['c'], color='red', label='Regression Line')\n",
        "        ax.scatter(train_input, train_output, marker='o', color='green', label='Training Data')\n",
        "\n",
        "        ax.set_ylim(0, max(train_output) + 1)\n",
        "\n",
        "        def update(frame):\n",
        "            predictions = self.forward_propagation(train_input)\n",
        "            cost = self.cost_function(predictions, train_output)\n",
        "            derivatives = self.backward_propagation(train_input, train_output, predictions)\n",
        "            self.update_parameters(derivatives, learning_rate)\n",
        "            line.set_ydata(self.parameters['m'] * x_vals + self.parameters['c'])\n",
        "            self.loss.append(cost)\n",
        "            print(\"Iteration = {}, Loss = {}\".format(frame + 1, cost))\n",
        "            return line,\n",
        "\n",
        "        ani = FuncAnimation(fig, update, frames=iters, interval=200, blit=True)\n",
        "        ani.save('linear_regression_A.gif', writer='ffmpeg')\n",
        "\n",
        "        plt.xlabel('Input')\n",
        "        plt.ylabel('Output')\n",
        "        plt.title('Linear Regression')\n",
        "        plt.legend()\n",
        "        plt.show()\n",
        "\n",
        "        return self.parameters, self.loss"
      ],
      "metadata": {
        "id": "keHNe9MdfXTG"
      },
      "execution_count": 14,
      "outputs": []
    },
    {
      "cell_type": "code",
      "source": [
        "model= LinearRegression()\n",
        "parameters,loss = model.train(X,Y,learning_rate=0.01,iters=50)"
      ],
      "metadata": {
        "colab": {
          "base_uri": "https://localhost:8080/",
          "height": 1000
        },
        "id": "d9GVKAzkeglS",
        "outputId": "64d17d33-61b7-40ae-dbfc-2c5c7acefb34"
      },
      "execution_count": 15,
      "outputs": [
        {
          "output_type": "stream",
          "name": "stdout",
          "text": [
            "Iteration = 1, Loss = 3536.774422185527\n",
            "Iteration = 1, Loss = 1426.2704173785064\n",
            "Iteration = 1, Loss = 1150.9508624146756\n",
            "Iteration = 1, Loss = 1112.1713350356877\n",
            "Iteration = 2, Loss = 1103.9017250712325\n",
            "Iteration = 3, Loss = 1099.589115357298\n",
            "Iteration = 4, Loss = 1095.811231795035\n",
            "Iteration = 5, Loss = 1092.12683016543\n",
            "Iteration = 6, Loss = 1088.4788565241117\n",
            "Iteration = 7, Loss = 1084.8597719862253\n",
            "Iteration = 8, Loss = 1081.2684204806023\n",
            "Iteration = 9, Loss = 1077.704469946202\n",
            "Iteration = 10, Loss = 1074.1676959145234\n",
            "Iteration = 11, Loss = 1070.6578891685751\n",
            "Iteration = 12, Loss = 1067.1748438315972\n",
            "Iteration = 13, Loss = 1063.7183558214808\n",
            "Iteration = 14, Loss = 1060.288222641173\n",
            "Iteration = 15, Loss = 1056.8842433413447\n",
            "Iteration = 16, Loss = 1053.5062185053341\n",
            "Iteration = 17, Loss = 1050.1539502370433\n",
            "Iteration = 18, Loss = 1046.827242149288\n",
            "Iteration = 19, Loss = 1043.5258993522868\n",
            "Iteration = 20, Loss = 1040.2497284422432\n",
            "Iteration = 21, Loss = 1036.9985374900143\n",
            "Iteration = 22, Loss = 1033.7721360298679\n",
            "Iteration = 23, Loss = 1030.570335048323\n",
            "Iteration = 24, Loss = 1027.392946973078\n",
            "Iteration = 25, Loss = 1024.2397856620223\n",
            "Iteration = 26, Loss = 1021.1106663923302\n",
            "Iteration = 27, Loss = 1018.0054058496398\n",
            "Iteration = 28, Loss = 1014.9238221173144\n",
            "Iteration = 29, Loss = 1011.8657346657844\n",
            "Iteration = 30, Loss = 1008.8309643419716\n",
            "Iteration = 31, Loss = 1005.8193333587941\n",
            "Iteration = 32, Loss = 1002.8306652847499\n",
            "Iteration = 33, Loss = 999.8647850335825\n",
            "Iteration = 34, Loss = 996.9215188540226\n",
            "Iteration = 35, Loss = 994.0006943196091\n",
            "Iteration = 36, Loss = 991.1021403185891\n",
            "Iteration = 37, Loss = 988.2256870438915\n",
            "Iteration = 38, Loss = 985.3711659831814\n",
            "Iteration = 39, Loss = 982.5384099089861\n",
            "Iteration = 40, Loss = 979.7272528688997\n",
            "Iteration = 41, Loss = 976.937530175861\n",
            "Iteration = 42, Loss = 974.1690783985038\n",
            "Iteration = 43, Loss = 971.4217353515852\n",
            "Iteration = 44, Loss = 968.6953400864822\n",
            "Iteration = 45, Loss = 965.9897328817643\n",
            "Iteration = 46, Loss = 963.3047552338343\n",
            "Iteration = 47, Loss = 960.6402498476457\n",
            "Iteration = 48, Loss = 957.9960606274847\n",
            "Iteration = 49, Loss = 955.372032667828\n",
            "Iteration = 50, Loss = 952.7680122442666\n"
          ]
        },
        {
          "output_type": "display_data",
          "data": {
            "text/plain": [
              "<Figure size 640x480 with 1 Axes>"
            ],
            "image/png": "[encoded data removed]"
          },
          "metadata": {}
        }
      ]
    },
    {
      "cell_type": "code",
      "source": [
        "#4\n",
        "dataset = pd.read_csv('/content/50_Startups-61ce93eb-d671-42db-a5e1-005e0a176393.csv')\n",
        "x=dataset.iloc[:,:-1].values\n",
        "y=dataset.iloc[:,-1].values"
      ],
      "metadata": {
        "id": "KxW1R09TimAQ"
      },
      "execution_count": 18,
      "outputs": []
    },
    {
      "cell_type": "code",
      "source": [
        "from sklearn.linear_model import LinearRegression\n",
        "regressor=LinearRegression()"
      ],
      "metadata": {
        "id": "B-sJmTs-j6QX"
      },
      "execution_count": 19,
      "outputs": []
    },
    {
      "cell_type": "code",
      "source": [
        "from sklearn.model_selection import train_test_split\n",
        "x_train,x_test,y_train,y_test=train_test_split(x,y,test_size=0.2,random_state=0)"
      ],
      "metadata": {
        "id": "kX80-1RRiz2J"
      },
      "execution_count": 20,
      "outputs": []
    },
    {
      "cell_type": "code",
      "source": [
        "regressor.fit(x_train,y_train)\n",
        "Y_pred=regressor.predict(x_test)\n",
        "print(Y_pred)\n"
      ],
      "metadata": {
        "colab": {
          "base_uri": "https://localhost:8080/"
        },
        "id": "0m9IWuRQi3XK",
        "outputId": "152ae958-d3fd-44f3-f937-feaf3d760f9f"
      },
      "execution_count": 21,
      "outputs": [
        {
          "output_type": "stream",
          "name": "stdout",
          "text": [
            "[103901.8969696  132763.05993126 133567.90370044  72911.78976736\n",
            " 179627.92567224 115166.64864795  67113.5769057   98154.80686776\n",
            " 114756.11555221 169064.01408795]\n"
          ]
        }
      ]
    },
    {
      "cell_type": "code",
      "source": [
        "for i,(pred,actual) in enumerate(zip(Y_pred,y_test)):\n",
        "  print(f\"sample {i+1}: Predicted={pred:.2f}, Actual={actual:.2f}\")"
      ],
      "metadata": {
        "colab": {
          "base_uri": "https://localhost:8080/"
        },
        "id": "3dBHKPfXjDLT",
        "outputId": "9ec6ff3f-dbcc-4873-a761-064103c6413a"
      },
      "execution_count": 22,
      "outputs": [
        {
          "output_type": "stream",
          "name": "stdout",
          "text": [
            "sample 1: Predicted=103901.90, Actual=103282.38\n",
            "sample 2: Predicted=132763.06, Actual=144259.40\n",
            "sample 3: Predicted=133567.90, Actual=146121.95\n",
            "sample 4: Predicted=72911.79, Actual=77798.83\n",
            "sample 5: Predicted=179627.93, Actual=191050.39\n",
            "sample 6: Predicted=115166.65, Actual=105008.31\n",
            "sample 7: Predicted=67113.58, Actual=81229.06\n",
            "sample 8: Predicted=98154.81, Actual=97483.56\n",
            "sample 9: Predicted=114756.12, Actual=110352.25\n",
            "sample 10: Predicted=169064.01, Actual=166187.94\n"
          ]
        }
      ]
    },
    {
      "cell_type": "code",
      "source": [
        "print(\"coefficients:\",regressor.coef_)\n",
        "print(\"intercept:\",regressor.intercept_)"
      ],
      "metadata": {
        "colab": {
          "base_uri": "https://localhost:8080/"
        },
        "id": "3HLulvdJkmUS",
        "outputId": "f9e6b030-4b07-4b51-b820-ed4f9eeb3293"
      },
      "execution_count": 23,
      "outputs": [
        {
          "output_type": "stream",
          "name": "stdout",
          "text": [
            "coefficients: [0.77884104 0.0293919  0.03471025]\n",
            "intercept: 42989.00816508669\n"
          ]
        }
      ]
    },
    {
      "cell_type": "code",
      "source": [
        "#6\n",
        "\n",
        "dataset = pd.read_csv('/content/studentscores-1fef94ba-27e1-4fab-a7ad-56867b8fb5a1.csv')\n",
        "X = dataset.iloc[:,:-1].values\n",
        "Y = dataset.iloc[:,1].values\n"
      ],
      "metadata": {
        "id": "qk36aRMHpDCr"
      },
      "execution_count": 24,
      "outputs": []
    },
    {
      "cell_type": "code",
      "source": [
        "from sklearn.linear_model import LinearRegression\n",
        "regressor=LinearRegression()"
      ],
      "metadata": {
        "id": "5X8gHGTZpW8e"
      },
      "execution_count": 25,
      "outputs": []
    },
    {
      "cell_type": "code",
      "source": [
        "from sklearn.model_selection import train_test_split\n",
        "x_train,x_test,y_train,y_test=train_test_split(x,y,test_size=0.2,random_state=0)"
      ],
      "metadata": {
        "id": "IvQOLS0OpcSF"
      },
      "execution_count": 26,
      "outputs": []
    },
    {
      "cell_type": "code",
      "source": [
        "from sklearn.preprocessing import PolynomialFeatures\n",
        "poly= PolynomialFeatures(degree=3)\n",
        "X_poly = poly.fit_transform(X)\n",
        "print(X_poly)"
      ],
      "metadata": {
        "colab": {
          "base_uri": "https://localhost:8080/"
        },
        "id": "n6Z7US08phXQ",
        "outputId": "98d40c32-4339-4a45-abb0-d4a7aee89329"
      },
      "execution_count": 27,
      "outputs": [
        {
          "output_type": "stream",
          "name": "stdout",
          "text": [
            "[[  1.      2.5     6.25   15.625]\n",
            " [  1.      5.1    26.01  132.651]\n",
            " [  1.      3.2    10.24   32.768]\n",
            " [  1.      8.5    72.25  614.125]\n",
            " [  1.      3.5    12.25   42.875]\n",
            " [  1.      1.5     2.25    3.375]\n",
            " [  1.      9.2    84.64  778.688]\n",
            " [  1.      5.5    30.25  166.375]\n",
            " [  1.      8.3    68.89  571.787]\n",
            " [  1.      2.7     7.29   19.683]\n",
            " [  1.      7.7    59.29  456.533]\n",
            " [  1.      5.9    34.81  205.379]\n",
            " [  1.      4.5    20.25   91.125]\n",
            " [  1.      3.3    10.89   35.937]\n",
            " [  1.      1.1     1.21    1.331]\n",
            " [  1.      8.9    79.21  704.969]\n",
            " [  1.      2.5     6.25   15.625]\n",
            " [  1.      1.9     3.61    6.859]\n",
            " [  1.      6.1    37.21  226.981]\n",
            " [  1.      7.4    54.76  405.224]\n",
            " [  1.      2.7     7.29   19.683]\n",
            " [  1.      4.8    23.04  110.592]\n",
            " [  1.      3.8    14.44   54.872]\n",
            " [  1.      6.9    47.61  328.509]\n",
            " [  1.      7.8    60.84  474.552]]\n"
          ]
        }
      ]
    },
    {
      "cell_type": "code",
      "source": [
        "model=LinearRegression()\n",
        "model.fit(X_poly,Y)"
      ],
      "metadata": {
        "colab": {
          "base_uri": "https://localhost:8080/",
          "height": 80
        },
        "id": "VGjW5ZdFprmL",
        "outputId": "ba748b6b-9d00-4301-eb54-9a96096d5076"
      },
      "execution_count": 28,
      "outputs": [
        {
          "output_type": "execute_result",
          "data": {
            "text/plain": [
              "LinearRegression()"
            ],
            "text/html": [
              "<style>#sk-container-id-1 {\n",
              "  /* Definition of color scheme common for light and dark mode */\n",
              "  --sklearn-color-text: #000;\n",
              "  --sklearn-color-text-muted: #666;\n",
              "  --sklearn-color-line: gray;\n",
              "  /* Definition of color scheme for unfitted estimators */\n",
              "  --sklearn-color-unfitted-level-0: #fff5e6;\n",
              "  --sklearn-color-unfitted-level-1: #f6e4d2;\n",
              "  --sklearn-color-unfitted-level-2: #ffe0b3;\n",
              "  --sklearn-color-unfitted-level-3: chocolate;\n",
              "  /* Definition of color scheme for fitted estimators */\n",
              "  --sklearn-color-fitted-level-0: #f0f8ff;\n",
              "  --sklearn-color-fitted-level-1: #d4ebff;\n",
              "  --sklearn-color-fitted-level-2: #b3dbfd;\n",
              "  --sklearn-color-fitted-level-3: cornflowerblue;\n",
              "\n",
              "  /* Specific color for light theme */\n",
              "  --sklearn-color-text-on-default-background: var(--sg-text-color, var(--theme-code-foreground, var(--jp-content-font-color1, black)));\n",
              "  --sklearn-color-background: var(--sg-background-color, var(--theme-background, var(--jp-layout-color0, white)));\n",
              "  --sklearn-color-border-box: var(--sg-text-color, var(--theme-code-foreground, var(--jp-content-font-color1, black)));\n",
              "  --sklearn-color-icon: #696969;\n",
              "\n",
              "  @media (prefers-color-scheme: dark) {\n",
              "    /* Redefinition of color scheme for dark theme */\n",
              "    --sklearn-color-text-on-default-background: var(--sg-text-color, var(--theme-code-foreground, var(--jp-content-font-color1, white)));\n",
              "    --sklearn-color-background: var(--sg-background-color, var(--theme-background, var(--jp-layout-color0, #111)));\n",
              "    --sklearn-color-border-box: var(--sg-text-color, var(--theme-code-foreground, var(--jp-content-font-color1, white)));\n",
              "    --sklearn-color-icon: #878787;\n",
              "  }\n",
              "}\n",
              "\n",
              "#sk-container-id-1 {\n",
              "  color: var(--sklearn-color-text);\n",
              "}\n",
              "\n",
              "#sk-container-id-1 pre {\n",
              "  padding: 0;\n",
              "}\n",
              "\n",
              "#sk-container-id-1 input.sk-hidden--visually {\n",
              "  border: 0;\n",
              "  clip: rect(1px 1px 1px 1px);\n",
              "  clip: rect(1px, 1px, 1px, 1px);\n",
              "  height: 1px;\n",
              "  margin: -1px;\n",
              "  overflow: hidden;\n",
              "  padding: 0;\n",
              "  position: absolute;\n",
              "  width: 1px;\n",
              "}\n",
              "\n",
              "#sk-container-id-1 div.sk-dashed-wrapped {\n",
              "  border: 1px dashed var(--sklearn-color-line);\n",
              "  margin: 0 0.4em 0.5em 0.4em;\n",
              "  box-sizing: border-box;\n",
              "  padding-bottom: 0.4em;\n",
              "  background-color: var(--sklearn-color-background);\n",
              "}\n",
              "\n",
              "#sk-container-id-1 div.sk-container {\n",
              "  /* jupyter's `normalize.less` sets `[hidden] { display: none; }`\n",
              "     but bootstrap.min.css set `[hidden] { display: none !important; }`\n",
              "     so we also need the `!important` here to be able to override the\n",
              "     default hidden behavior on the sphinx rendered scikit-learn.org.\n",
              "     See: https://github.com/scikit-learn/scikit-learn/issues/21755 */\n",
              "  display: inline-block !important;\n",
              "  position: relative;\n",
              "}\n",
              "\n",
              "#sk-container-id-1 div.sk-text-repr-fallback {\n",
              "  display: none;\n",
              "}\n",
              "\n",
              "div.sk-parallel-item,\n",
              "div.sk-serial,\n",
              "div.sk-item {\n",
              "  /* draw centered vertical line to link estimators */\n",
              "  background-image: linear-gradient(var(--sklearn-color-text-on-default-background), var(--sklearn-color-text-on-default-background));\n",
              "  background-size: 2px 100%;\n",
              "  background-repeat: no-repeat;\n",
              "  background-position: center center;\n",
              "}\n",
              "\n",
              "/* Parallel-specific style estimator block */\n",
              "\n",
              "#sk-container-id-1 div.sk-parallel-item::after {\n",
              "  content: \"\";\n",
              "  width: 100%;\n",
              "  border-bottom: 2px solid var(--sklearn-color-text-on-default-background);\n",
              "  flex-grow: 1;\n",
              "}\n",
              "\n",
              "#sk-container-id-1 div.sk-parallel {\n",
              "  display: flex;\n",
              "  align-items: stretch;\n",
              "  justify-content: center;\n",
              "  background-color: var(--sklearn-color-background);\n",
              "  position: relative;\n",
              "}\n",
              "\n",
              "#sk-container-id-1 div.sk-parallel-item {\n",
              "  display: flex;\n",
              "  flex-direction: column;\n",
              "}\n",
              "\n",
              "#sk-container-id-1 div.sk-parallel-item:first-child::after {\n",
              "  align-self: flex-end;\n",
              "  width: 50%;\n",
              "}\n",
              "\n",
              "#sk-container-id-1 div.sk-parallel-item:last-child::after {\n",
              "  align-self: flex-start;\n",
              "  width: 50%;\n",
              "}\n",
              "\n",
              "#sk-container-id-1 div.sk-parallel-item:only-child::after {\n",
              "  width: 0;\n",
              "}\n",
              "\n",
              "/* Serial-specific style estimator block */\n",
              "\n",
              "#sk-container-id-1 div.sk-serial {\n",
              "  display: flex;\n",
              "  flex-direction: column;\n",
              "  align-items: center;\n",
              "  background-color: var(--sklearn-color-background);\n",
              "  padding-right: 1em;\n",
              "  padding-left: 1em;\n",
              "}\n",
              "\n",
              "\n",
              "/* Toggleable style: style used for estimator/Pipeline/ColumnTransformer box that is\n",
              "clickable and can be expanded/collapsed.\n",
              "- Pipeline and ColumnTransformer use this feature and define the default style\n",
              "- Estimators will overwrite some part of the style using the `sk-estimator` class\n",
              "*/\n",
              "\n",
              "/* Pipeline and ColumnTransformer style (default) */\n",
              "\n",
              "#sk-container-id-1 div.sk-toggleable {\n",
              "  /* Default theme specific background. It is overwritten whether we have a\n",
              "  specific estimator or a Pipeline/ColumnTransformer */\n",
              "  background-color: var(--sklearn-color-background);\n",
              "}\n",
              "\n",
              "/* Toggleable label */\n",
              "#sk-container-id-1 label.sk-toggleable__label {\n",
              "  cursor: pointer;\n",
              "  display: flex;\n",
              "  width: 100%;\n",
              "  margin-bottom: 0;\n",
              "  padding: 0.5em;\n",
              "  box-sizing: border-box;\n",
              "  text-align: center;\n",
              "  align-items: start;\n",
              "  justify-content: space-between;\n",
              "  gap: 0.5em;\n",
              "}\n",
              "\n",
              "#sk-container-id-1 label.sk-toggleable__label .caption {\n",
              "  font-size: 0.6rem;\n",
              "  font-weight: lighter;\n",
              "  color: var(--sklearn-color-text-muted);\n",
              "}\n",
              "\n",
              "#sk-container-id-1 label.sk-toggleable__label-arrow:before {\n",
              "  /* Arrow on the left of the label */\n",
              "  content: \"▸\";\n",
              "  float: left;\n",
              "  margin-right: 0.25em;\n",
              "  color: var(--sklearn-color-icon);\n",
              "}\n",
              "\n",
              "#sk-container-id-1 label.sk-toggleable__label-arrow:hover:before {\n",
              "  color: var(--sklearn-color-text);\n",
              "}\n",
              "\n",
              "/* Toggleable content - dropdown */\n",
              "\n",
              "#sk-container-id-1 div.sk-toggleable__content {\n",
              "  max-height: 0;\n",
              "  max-width: 0;\n",
              "  overflow: hidden;\n",
              "  text-align: left;\n",
              "  /* unfitted */\n",
              "  background-color: var(--sklearn-color-unfitted-level-0);\n",
              "}\n",
              "\n",
              "#sk-container-id-1 div.sk-toggleable__content.fitted {\n",
              "  /* fitted */\n",
              "  background-color: var(--sklearn-color-fitted-level-0);\n",
              "}\n",
              "\n",
              "#sk-container-id-1 div.sk-toggleable__content pre {\n",
              "  margin: 0.2em;\n",
              "  border-radius: 0.25em;\n",
              "  color: var(--sklearn-color-text);\n",
              "  /* unfitted */\n",
              "  background-color: var(--sklearn-color-unfitted-level-0);\n",
              "}\n",
              "\n",
              "#sk-container-id-1 div.sk-toggleable__content.fitted pre {\n",
              "  /* unfitted */\n",
              "  background-color: var(--sklearn-color-fitted-level-0);\n",
              "}\n",
              "\n",
              "#sk-container-id-1 input.sk-toggleable__control:checked~div.sk-toggleable__content {\n",
              "  /* Expand drop-down */\n",
              "  max-height: 200px;\n",
              "  max-width: 100%;\n",
              "  overflow: auto;\n",
              "}\n",
              "\n",
              "#sk-container-id-1 input.sk-toggleable__control:checked~label.sk-toggleable__label-arrow:before {\n",
              "  content: \"▾\";\n",
              "}\n",
              "\n",
              "/* Pipeline/ColumnTransformer-specific style */\n",
              "\n",
              "#sk-container-id-1 div.sk-label input.sk-toggleable__control:checked~label.sk-toggleable__label {\n",
              "  color: var(--sklearn-color-text);\n",
              "  background-color: var(--sklearn-color-unfitted-level-2);\n",
              "}\n",
              "\n",
              "#sk-container-id-1 div.sk-label.fitted input.sk-toggleable__control:checked~label.sk-toggleable__label {\n",
              "  background-color: var(--sklearn-color-fitted-level-2);\n",
              "}\n",
              "\n",
              "/* Estimator-specific style */\n",
              "\n",
              "/* Colorize estimator box */\n",
              "#sk-container-id-1 div.sk-estimator input.sk-toggleable__control:checked~label.sk-toggleable__label {\n",
              "  /* unfitted */\n",
              "  background-color: var(--sklearn-color-unfitted-level-2);\n",
              "}\n",
              "\n",
              "#sk-container-id-1 div.sk-estimator.fitted input.sk-toggleable__control:checked~label.sk-toggleable__label {\n",
              "  /* fitted */\n",
              "  background-color: var(--sklearn-color-fitted-level-2);\n",
              "}\n",
              "\n",
              "#sk-container-id-1 div.sk-label label.sk-toggleable__label,\n",
              "#sk-container-id-1 div.sk-label label {\n",
              "  /* The background is the default theme color */\n",
              "  color: var(--sklearn-color-text-on-default-background);\n",
              "}\n",
              "\n",
              "/* On hover, darken the color of the background */\n",
              "#sk-container-id-1 div.sk-label:hover label.sk-toggleable__label {\n",
              "  color: var(--sklearn-color-text);\n",
              "  background-color: var(--sklearn-color-unfitted-level-2);\n",
              "}\n",
              "\n",
              "/* Label box, darken color on hover, fitted */\n",
              "#sk-container-id-1 div.sk-label.fitted:hover label.sk-toggleable__label.fitted {\n",
              "  color: var(--sklearn-color-text);\n",
              "  background-color: var(--sklearn-color-fitted-level-2);\n",
              "}\n",
              "\n",
              "/* Estimator label */\n",
              "\n",
              "#sk-container-id-1 div.sk-label label {\n",
              "  font-family: monospace;\n",
              "  font-weight: bold;\n",
              "  display: inline-block;\n",
              "  line-height: 1.2em;\n",
              "}\n",
              "\n",
              "#sk-container-id-1 div.sk-label-container {\n",
              "  text-align: center;\n",
              "}\n",
              "\n",
              "/* Estimator-specific */\n",
              "#sk-container-id-1 div.sk-estimator {\n",
              "  font-family: monospace;\n",
              "  border: 1px dotted var(--sklearn-color-border-box);\n",
              "  border-radius: 0.25em;\n",
              "  box-sizing: border-box;\n",
              "  margin-bottom: 0.5em;\n",
              "  /* unfitted */\n",
              "  background-color: var(--sklearn-color-unfitted-level-0);\n",
              "}\n",
              "\n",
              "#sk-container-id-1 div.sk-estimator.fitted {\n",
              "  /* fitted */\n",
              "  background-color: var(--sklearn-color-fitted-level-0);\n",
              "}\n",
              "\n",
              "/* on hover */\n",
              "#sk-container-id-1 div.sk-estimator:hover {\n",
              "  /* unfitted */\n",
              "  background-color: var(--sklearn-color-unfitted-level-2);\n",
              "}\n",
              "\n",
              "#sk-container-id-1 div.sk-estimator.fitted:hover {\n",
              "  /* fitted */\n",
              "  background-color: var(--sklearn-color-fitted-level-2);\n",
              "}\n",
              "\n",
              "/* Specification for estimator info (e.g. \"i\" and \"?\") */\n",
              "\n",
              "/* Common style for \"i\" and \"?\" */\n",
              "\n",
              ".sk-estimator-doc-link,\n",
              "a:link.sk-estimator-doc-link,\n",
              "a:visited.sk-estimator-doc-link {\n",
              "  float: right;\n",
              "  font-size: smaller;\n",
              "  line-height: 1em;\n",
              "  font-family: monospace;\n",
              "  background-color: var(--sklearn-color-background);\n",
              "  border-radius: 1em;\n",
              "  height: 1em;\n",
              "  width: 1em;\n",
              "  text-decoration: none !important;\n",
              "  margin-left: 0.5em;\n",
              "  text-align: center;\n",
              "  /* unfitted */\n",
              "  border: var(--sklearn-color-unfitted-level-1) 1pt solid;\n",
              "  color: var(--sklearn-color-unfitted-level-1);\n",
              "}\n",
              "\n",
              ".sk-estimator-doc-link.fitted,\n",
              "a:link.sk-estimator-doc-link.fitted,\n",
              "a:visited.sk-estimator-doc-link.fitted {\n",
              "  /* fitted */\n",
              "  border: var(--sklearn-color-fitted-level-1) 1pt solid;\n",
              "  color: var(--sklearn-color-fitted-level-1);\n",
              "}\n",
              "\n",
              "/* On hover */\n",
              "div.sk-estimator:hover .sk-estimator-doc-link:hover,\n",
              ".sk-estimator-doc-link:hover,\n",
              "div.sk-label-container:hover .sk-estimator-doc-link:hover,\n",
              ".sk-estimator-doc-link:hover {\n",
              "  /* unfitted */\n",
              "  background-color: var(--sklearn-color-unfitted-level-3);\n",
              "  color: var(--sklearn-color-background);\n",
              "  text-decoration: none;\n",
              "}\n",
              "\n",
              "div.sk-estimator.fitted:hover .sk-estimator-doc-link.fitted:hover,\n",
              ".sk-estimator-doc-link.fitted:hover,\n",
              "div.sk-label-container:hover .sk-estimator-doc-link.fitted:hover,\n",
              ".sk-estimator-doc-link.fitted:hover {\n",
              "  /* fitted */\n",
              "  background-color: var(--sklearn-color-fitted-level-3);\n",
              "  color: var(--sklearn-color-background);\n",
              "  text-decoration: none;\n",
              "}\n",
              "\n",
              "/* Span, style for the box shown on hovering the info icon */\n",
              ".sk-estimator-doc-link span {\n",
              "  display: none;\n",
              "  z-index: 9999;\n",
              "  position: relative;\n",
              "  font-weight: normal;\n",
              "  right: .2ex;\n",
              "  padding: .5ex;\n",
              "  margin: .5ex;\n",
              "  width: min-content;\n",
              "  min-width: 20ex;\n",
              "  max-width: 50ex;\n",
              "  color: var(--sklearn-color-text);\n",
              "  box-shadow: 2pt 2pt 4pt #999;\n",
              "  /* unfitted */\n",
              "  background: var(--sklearn-color-unfitted-level-0);\n",
              "  border: .5pt solid var(--sklearn-color-unfitted-level-3);\n",
              "}\n",
              "\n",
              ".sk-estimator-doc-link.fitted span {\n",
              "  /* fitted */\n",
              "  background: var(--sklearn-color-fitted-level-0);\n",
              "  border: var(--sklearn-color-fitted-level-3);\n",
              "}\n",
              "\n",
              ".sk-estimator-doc-link:hover span {\n",
              "  display: block;\n",
              "}\n",
              "\n",
              "/* \"?\"-specific style due to the `<a>` HTML tag */\n",
              "\n",
              "#sk-container-id-1 a.estimator_doc_link {\n",
              "  float: right;\n",
              "  font-size: 1rem;\n",
              "  line-height: 1em;\n",
              "  font-family: monospace;\n",
              "  background-color: var(--sklearn-color-background);\n",
              "  border-radius: 1rem;\n",
              "  height: 1rem;\n",
              "  width: 1rem;\n",
              "  text-decoration: none;\n",
              "  /* unfitted */\n",
              "  color: var(--sklearn-color-unfitted-level-1);\n",
              "  border: var(--sklearn-color-unfitted-level-1) 1pt solid;\n",
              "}\n",
              "\n",
              "#sk-container-id-1 a.estimator_doc_link.fitted {\n",
              "  /* fitted */\n",
              "  border: var(--sklearn-color-fitted-level-1) 1pt solid;\n",
              "  color: var(--sklearn-color-fitted-level-1);\n",
              "}\n",
              "\n",
              "/* On hover */\n",
              "#sk-container-id-1 a.estimator_doc_link:hover {\n",
              "  /* unfitted */\n",
              "  background-color: var(--sklearn-color-unfitted-level-3);\n",
              "  color: var(--sklearn-color-background);\n",
              "  text-decoration: none;\n",
              "}\n",
              "\n",
              "#sk-container-id-1 a.estimator_doc_link.fitted:hover {\n",
              "  /* fitted */\n",
              "  background-color: var(--sklearn-color-fitted-level-3);\n",
              "}\n",
              "</style><div id=\"sk-container-id-1\" class=\"sk-top-container\"><div class=\"sk-text-repr-fallback\"><pre>LinearRegression()</pre><b>In a Jupyter environment, please rerun this cell to show the HTML representation or trust the notebook. <br />On GitHub, the HTML representation is unable to render, please try loading this page with nbviewer.org.</b></div><div class=\"sk-container\" hidden><div class=\"sk-item\"><div class=\"sk-estimator fitted sk-toggleable\"><input class=\"sk-toggleable__control sk-hidden--visually\" id=\"sk-estimator-id-1\" type=\"checkbox\" checked><label for=\"sk-estimator-id-1\" class=\"sk-toggleable__label fitted sk-toggleable__label-arrow\"><div><div>LinearRegression</div></div><div><a class=\"sk-estimator-doc-link fitted\" rel=\"noreferrer\" target=\"_blank\" href=\"https://scikit-learn.org/1.6/modules/generated/sklearn.linear_model.LinearRegression.html\">?<span>Documentation for LinearRegression</span></a><span class=\"sk-estimator-doc-link fitted\">i<span>Fitted</span></span></div></label><div class=\"sk-toggleable__content fitted\"><pre>LinearRegression()</pre></div> </div></div></div></div>"
            ]
          },
          "metadata": {},
          "execution_count": 28
        }
      ]
    },
    {
      "cell_type": "code",
      "source": [
        "print(model.coef_)\n",
        "print(model.intercept_)"
      ],
      "metadata": {
        "colab": {
          "base_uri": "https://localhost:8080/"
        },
        "id": "7rHnZpOUsC3P",
        "outputId": "6d091a93-d7c6-4a10-b8ca-7daf84c008f7"
      },
      "execution_count": 29,
      "outputs": [
        {
          "output_type": "stream",
          "name": "stdout",
          "text": [
            "[ 0.         -3.79705913  2.99874775 -0.19257785]\n",
            "19.317706990502344\n"
          ]
        }
      ]
    },
    {
      "cell_type": "code",
      "source": [
        "Y_pred=model.predict(X_poly)\n",
        "print(Y_pred)"
      ],
      "metadata": {
        "colab": {
          "base_uri": "https://localhost:8080/"
        },
        "id": "janY6MuCsJQg",
        "outputId": "c15a889b-4362-4b9d-f920-915ff44a31cf"
      },
      "execution_count": 30,
      "outputs": [
        {
          "output_type": "stream",
          "name": "stdout",
          "text": [
            "[25.55820366 52.4044897  31.56390366 85.43535572 34.50588455 19.71935048\n",
            " 88.24070983 57.10586101 84.27233622 27.13600857 79.9579611  61.75002055\n",
            " 45.40692604 32.52310457 18.5131056  87.29327399 25.55820366 21.60788253\n",
            " 64.02753655 77.39372855 27.13600857 48.88540147 37.62366789 72.62482165\n",
            " 80.75625387]\n"
          ]
        }
      ]
    },
    {
      "cell_type": "code",
      "source": [
        "plt.scatter(X,Y,color='red')\n",
        "# Sort X and Y_pred based on the values in X to plot a smooth line\n",
        "sorted_X = np.sort(X, axis=0)\n",
        "sorted_Y_pred = model.predict(poly.fit_transform(sorted_X))\n",
        "plt.plot(sorted_X, sorted_Y_pred, color='blue')\n",
        "plt.title('Polynomial Regression')\n",
        "plt.show()"
      ],
      "metadata": {
        "colab": {
          "base_uri": "https://localhost:8080/",
          "height": 452
        },
        "id": "6b3r7vIvsQ6f",
        "outputId": "4964d65d-ed88-4732-dcf3-984db401f674"
      },
      "execution_count": 31,
      "outputs": [
        {
          "output_type": "display_data",
          "data": {
            "text/plain": [
              "<Figure size 640x480 with 1 Axes>"
            ],
            "image/png": "[encoded data removed]"
          },
          "metadata": {}
        }
      ]
    },
    {
      "cell_type": "code",
      "source": [],
      "metadata": {
        "id": "kMKIKuWEuoee"
      },
      "execution_count": null,
      "outputs": []
    },
    {
      "cell_type": "code",
      "source": [
        "#6 (Task)\n",
        "\n",
        "dataset = pd.read_csv('/content/50_Startups-61ce93eb-d671-42db-a5e1-005e0a176393.csv')\n",
        "X = dataset.iloc[:,:-1].values\n",
        "Y = dataset.iloc[:,1].values\n"
      ],
      "metadata": {
        "id": "CMSNgaZmuo2C"
      },
      "execution_count": 33,
      "outputs": []
    },
    {
      "cell_type": "code",
      "source": [
        "from sklearn.linear_model import LinearRegression\n",
        "regressor=LinearRegression()"
      ],
      "metadata": {
        "id": "gt3CLIfwuwdp"
      },
      "execution_count": 34,
      "outputs": []
    },
    {
      "cell_type": "code",
      "source": [
        "from sklearn.model_selection import train_test_split\n",
        "x_train,x_test,y_train,y_test=train_test_split(x,y,test_size=0.2,random_state=0)"
      ],
      "metadata": {
        "id": "mGUB0Wrduwn3"
      },
      "execution_count": 35,
      "outputs": []
    },
    {
      "cell_type": "code",
      "source": [
        "from sklearn.preprocessing import PolynomialFeatures\n",
        "poly= PolynomialFeatures(degree=5)\n",
        "X_poly = poly.fit_transform(X)\n",
        "print(X_poly)"
      ],
      "metadata": {
        "colab": {
          "base_uri": "https://localhost:8080/"
        },
        "id": "YZZDQ4BxuwwC",
        "outputId": "e7a40952-f13c-4d0e-c612-e797cdcc5b90"
      },
      "execution_count": 36,
      "outputs": [
        {
          "output_type": "stream",
          "name": "stdout",
          "text": [
            "[[1.00000000e+00 1.65349200e+05 1.36897800e+05 ... 1.96798978e+27\n",
            "  6.78218559e+27 2.33731099e+28]\n",
            " [1.00000000e+00 1.62597700e+05 1.51377590e+05 ... 2.00435339e+27\n",
            "  5.87755111e+27 1.72352876e+28]\n",
            " [1.00000000e+00 1.53441510e+05 1.01145550e+05 ... 6.94488401e+26\n",
            "  2.80097154e+27 1.12967208e+28]\n",
            " ...\n",
            " [1.00000000e+00 0.00000000e+00 1.35426920e+05 ... 0.00000000e+00\n",
            "  0.00000000e+00 0.00000000e+00]\n",
            " [1.00000000e+00 5.42050000e+02 5.17431500e+04 ... 0.00000000e+00\n",
            "  0.00000000e+00 0.00000000e+00]\n",
            " [1.00000000e+00 0.00000000e+00 1.16983800e+05 ... 1.26150792e+24\n",
            "  4.87128755e+23 1.88103793e+23]]\n"
          ]
        }
      ]
    },
    {
      "cell_type": "code",
      "source": [
        "model=LinearRegression()\n",
        "model.fit(X_poly,Y)\n",
        "print(model.coef_)\n",
        "print(model.intercept_)\n",
        "Y_pred=model.predict(X_poly)\n",
        "print(Y_pred)\n",
        "plt.scatter(X[:, 1],Y,color='red') # Scatter plot original X and Y\n",
        "plt.plot(X,Y_pred,color='blue') # Plot regression line using original X and predicted Y\n",
        "plt.title('polynimail regression')\n",
        "plt.show()"
      ],
      "metadata": {
        "id": "DctiO1sJiRB_",
        "colab": {
          "base_uri": "https://localhost:8080/",
          "height": 938
        },
        "outputId": "7fa85d37-b62e-4419-fedd-b2bfa9943a97"
      },
      "execution_count": 37,
      "outputs": [
        {
          "output_type": "stream",
          "name": "stdout",
          "text": [
            "[ 2.49841358e-15  2.06386847e-16 -2.87621406e-17  5.80204979e-17\n",
            "  7.43225061e-18  6.45869782e-18  2.72566150e-17  1.04428331e-17\n",
            "  2.65764558e-17  7.25079836e-17  3.26652905e-13  3.47349785e-13\n",
            "  8.58789903e-13  3.86581433e-13  9.23332102e-13  2.35738019e-12\n",
            "  3.00029722e-13  1.03775053e-12  2.60936540e-12  6.84274579e-12\n",
            " -1.15182402e-14  1.82890917e-14  3.14100175e-15  2.94536870e-15\n",
            " -1.00547175e-14  5.29237633e-16 -5.94029542e-15  6.49959773e-15\n",
            " -3.68347814e-15  1.03230845e-15  1.14024461e-15  1.12974946e-15\n",
            " -2.25475527e-15  1.67650367e-15 -4.22420118e-16 -1.06635791e-19\n",
            "  1.80946320e-19  1.05082294e-19 -8.96845007e-20 -1.60785983e-19\n",
            " -2.30148859e-20 -5.95586609e-20  9.15641358e-20  3.49359567e-20\n",
            " -7.03319846e-22  4.44509885e-20 -2.48506621e-20  1.93953149e-22\n",
            " -1.03288164e-21 -1.03615784e-21 -6.51133700e-21 -8.14630873e-21\n",
            "  1.20235106e-20 -6.57010944e-21  2.00362925e-22  4.59467337e-22]\n",
            "46625.536861935994\n",
            "[137192.82394991 150826.02645482 101140.37809485 118755.26756001\n",
            "  91340.81125517  99628.59401855 147204.92133042 147636.5221979\n",
            " 147864.73162349 108345.99719114 108861.54045133  92634.83823326\n",
            " 125693.44528915 135266.76268665 155560.05023129 123660.75297407\n",
            " 121619.22023524 146694.79876613 113170.08982678 153513.43289386\n",
            " 114963.28805711 152846.93084933 124176.48621857 103617.0020605\n",
            "  99466.76417107 138934.43219265 146771.7315837  128178.00606109\n",
            " 182395.28774634 153989.33501111 114342.55926673 151312.20118959\n",
            " 129283.57070893 102018.18514131 157910.11342699  86543.37569321\n",
            " 126430.86011766  52464.35599571  66112.7331288   82228.48409005\n",
            " 120250.30050952  85382.09201813  94300.05299238 125932.1474891\n",
            " 155598.70725315 125693.89457957 115819.49780722 134300.84166686\n",
            "  52152.74569352 117204.99201626]\n"
          ]
        },
        {
          "output_type": "display_data",
          "data": {
            "text/plain": [
              "<Figure size 640x480 with 1 Axes>"
            ],
            "image/png": "[encoded data removed]"
          },
          "metadata": {}
        }
      ]
    }
  ]
}